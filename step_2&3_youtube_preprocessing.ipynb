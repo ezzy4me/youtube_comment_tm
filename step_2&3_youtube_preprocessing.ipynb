{
  "cells": [
    {
      "cell_type": "markdown",
      "metadata": {
        "id": "view-in-github",
        "colab_type": "text"
      },
      "source": [
        "<a href=\"https://colab.research.google.com/github/ezzy4me/youtube_comment_tm/blob/main/step_2%263_youtube_preprocessing.ipynb\" target=\"_parent\"><img src=\"https://colab.research.google.com/assets/colab-badge.svg\" alt=\"Open In Colab\"/></a>"
      ]
    },
    {
      "cell_type": "markdown",
      "source": [
        "# 2&3. Preprocessing through YouTube Comments on Living Alone\n",
        "\n",
        "The data, including YouTube comments stored in CSV format, is loaded from a specified drive path. Comments and titles are further cleaned, masked, and processed. Quantiles are computed for length-based filtering, and the dataset is sampled and concatenated. The final DataFrame is used to combine titles and comments.\n"
      ],
      "metadata": {
        "id": "C9tR7Sa4Ezz3"
      }
    },
    {
      "cell_type": "markdown",
      "metadata": {
        "id": "k7S6huKLUKmm"
      },
      "source": [
        "## load CSV file\n"
      ]
    },
    {
      "cell_type": "code",
      "execution_count": 1,
      "metadata": {
        "colab": {
          "base_uri": "https://localhost:8080/"
        },
        "id": "hlz3x6ODO-YE",
        "outputId": "369c51d6-ccea-468a-f0a6-b71d58999779"
      },
      "outputs": [
        {
          "output_type": "stream",
          "name": "stdout",
          "text": [
            "Drive already mounted at /content/drive; to attempt to forcibly remount, call drive.mount(\"/content/drive\", force_remount=True).\n"
          ]
        }
      ],
      "source": [
        "from google.colab import drive\n",
        "drive.mount('/content/drive')"
      ]
    },
    {
      "cell_type": "code",
      "execution_count": 2,
      "metadata": {
        "id": "p_ql86oAUixl"
      },
      "outputs": [],
      "source": [
        "# environment setting\n",
        "import csv\n",
        "import pandas as pd\n",
        "import numpy as np\n",
        "import re"
      ]
    },
    {
      "cell_type": "code",
      "execution_count": 8,
      "metadata": {
        "colab": {
          "base_uri": "https://localhost:8080/"
        },
        "id": "YapW6jCWUmaI",
        "outputId": "32d1c638-6540-41b5-b72a-c5e18c02e2f6"
      },
      "outputs": [
        {
          "output_type": "execute_result",
          "data": {
            "text/plain": [
              "['/content/drive/MyDrive/Colab Notebooks/eng_youtube/developed_infos.csv',\n",
              " '/content/drive/MyDrive/Colab Notebooks/eng_youtube/nomad_infos.csv',\n",
              " '/content/drive/MyDrive/Colab Notebooks/eng_youtube/harun_infos.csv',\n",
              " '/content/drive/MyDrive/Colab Notebooks/eng_youtube/stephie_infos.csv',\n",
              " '/content/drive/MyDrive/Colab Notebooks/eng_youtube/rusty_infos.csv']"
            ]
          },
          "metadata": {},
          "execution_count": 8
        }
      ],
      "source": [
        "# load data\n",
        "from glob import glob\n",
        "\n",
        "# Set up a csv path with a comment csv file\n",
        "to_sc = glob('/content/drive/MyDrive/Colab Notebooks/eng_youtube/*.csv')\n",
        "to_sc"
      ]
    },
    {
      "cell_type": "code",
      "execution_count": 9,
      "metadata": {
        "colab": {
          "base_uri": "https://localhost:8080/"
        },
        "id": "OOJj70TdU5DU",
        "outputId": "61d03d7a-a6a7-4b00-a303-589446867ec1"
      },
      "outputs": [
        {
          "output_type": "stream",
          "name": "stdout",
          "text": [
            "length of /content/drive/MyDrive/Colab Notebooks/eng_youtube/developed_infos.csv:  745\n",
            "length of /content/drive/MyDrive/Colab Notebooks/eng_youtube/nomad_infos.csv:  259\n",
            "length of /content/drive/MyDrive/Colab Notebooks/eng_youtube/harun_infos.csv:  645\n",
            "length of /content/drive/MyDrive/Colab Notebooks/eng_youtube/stephie_infos.csv:  380\n",
            "length of /content/drive/MyDrive/Colab Notebooks/eng_youtube/rusty_infos.csv:  9030\n",
            "total length of comments:  11059\n"
          ]
        }
      ],
      "source": [
        "total_len = 0\n",
        "for i in range(len(to_sc)):\n",
        "    filename = to_sc[i]\n",
        "\n",
        "    # Try to read the file using utf8 encoding. If that fails, use 'utf-8-sig' encoding instead.\n",
        "    try:\n",
        "        globals()[f'df_{i}'] = pd.read_csv(to_sc[i], encoding='utf8')  # Load the CSV file into a DataFrame with UTF-8 encoding.\n",
        "    except:\n",
        "        globals()[f'df_{i}'] = pd.read_csv(to_sc[i], encoding='utf-8-sig')  # If there's an encoding error, reload the CSV file using 'utf-8-sig' encoding. ex)koean\n",
        "\n",
        "    print(f'length of {filename}: ', len(globals()[f'df_{i}']))  # Print the length of the DataFrame (i.e., the number of rows).\n",
        "    total_len += len(globals()[f'df_{i}'])  # Add the length of the DataFrame to the total length.\n",
        "\n",
        "print('total length of comments: ', total_len)"
      ]
    },
    {
      "cell_type": "markdown",
      "metadata": {
        "id": "hqXTbYrsUdzp"
      },
      "source": [
        "# 2. cleaning&preprocessing"
      ]
    },
    {
      "cell_type": "markdown",
      "metadata": {
        "id": "7UBePu1RUgTm"
      },
      "source": [
        "### Describtion of Preprocessing\n",
        "1. **Basic Cleaning for Comments and Titles**\n",
        "\n",
        "2. **Text Length Filtering**: Filter with results for statistics in sentences and titles with short tokens\n",
        "\n",
        "3. **LogSamping**\n",
        "    - Sampling according to '% of log comments' to ease imbalancing\n",
        "    - In principle, raw data is imported from channels that are higher than raw data (not in this example)\n",
        "    - Approximately 700,000 -> 20,000\n",
        "\n",
        "\n",
        "4. **Text Concatanation** : [title;comment]\n",
        "\n",
        "\n"
      ]
    },
    {
      "cell_type": "markdown",
      "source": [
        "### summary of length changes\n",
        "### after 1. Basic Cleaning for comments\n",
        "\n",
        "- developed_infos.csv:  80033\n",
        "- nomad_infos.csv:  13430\n",
        "- harun_infos.csv:  98262\n",
        "- stephie_infos.csv:  14971\n",
        "- rusty_infos.csv:  287215\n",
        "\n",
        "### after 2. Text Length Filtering\n",
        "- developed_infos.csv:  30140\n",
        "- nomad_infos.csv:  3452\n",
        "- harun_infos.csv:  36386\n",
        "- stephie_infos.csv:  6096\n",
        "- rusty_infos.csv:  33486\n",
        "\n",
        "### after 3. Long sampling\n",
        "- developed_infos.csv:  4289\n",
        "- nomad_infos.csv:  3388\n",
        "- harun_infos.csv:  4367\n",
        "- stephie_infos.csv:  3624\n",
        "- rusty_infos.csv:  4332"
      ],
      "metadata": {
        "id": "v2IeECsX3fdE"
      }
    },
    {
      "cell_type": "markdown",
      "source": [
        "### 1. Basic Cleaning for Comments and Titles\n",
        "\n",
        "- a) **Basic Cleaning**: Removal of emojis, numbers, and other non-essential characters.\n",
        "\n",
        "- b) **Duplicate Removal**: Removal of duplicate comments reduces the dataset's size. 700,953 -> 493,920\n",
        "\n",
        "- c) **URL Removal**: Comments containing \"http\" or \"www\" are removed. -> 493,911"
      ],
      "metadata": {
        "id": "8-MwPzCLKTO7"
      }
    },
    {
      "cell_type": "code",
      "execution_count": 10,
      "metadata": {
        "id": "i1jI7jPNUP1r"
      },
      "outputs": [],
      "source": [
        "import pandas as pd\n",
        "import re\n",
        "\n",
        "def remove_special_characters(text):\n",
        "    # Remove special characters except for certain punctuation, remove digits, and convert to lowercase.\n",
        "    cleaned_text = re.sub(r'[^\\w\\s\\'!,.?]', '', text)\n",
        "    cleaned_text = re.sub(r'\\d', '', cleaned_text)\n",
        "    cleaned_text = cleaned_text.lower()\n",
        "    return cleaned_text\n",
        "\n",
        "def replace_single_u(comment, replacement='you'):\n",
        "    # Replace standalone 'u' with 'you' (or another specified replacement).\n",
        "    u_pattern = re.compile(r'\\bu\\b')  # Find instances where 'u' appears independently.\n",
        "    return u_pattern.sub(replacement, comment)\n",
        "\n",
        "def remove_pattern(comment, pattern):\n",
        "    # Remove all instances of a specified pattern from the comment.\n",
        "    pattern = re.compile(pattern)\n",
        "    return pattern.sub('', comment)\n"
      ]
    },
    {
      "cell_type": "code",
      "execution_count": 11,
      "metadata": {
        "colab": {
          "base_uri": "https://localhost:8080/"
        },
        "id": "fqjHgUpqUc05",
        "outputId": "0dc8d350-fc91-451c-9fbf-960abb9f85ca"
      },
      "outputs": [
        {
          "output_type": "stream",
          "name": "stdout",
          "text": [
            "length of /content/drive/MyDrive/Colab Notebooks/eng_youtube/developed_infos.csv:  745\n",
            "length of /content/drive/MyDrive/Colab Notebooks/eng_youtube/nomad_infos.csv:  259\n",
            "length of /content/drive/MyDrive/Colab Notebooks/eng_youtube/harun_infos.csv:  645\n",
            "length of /content/drive/MyDrive/Colab Notebooks/eng_youtube/stephie_infos.csv:  380\n",
            "length of /content/drive/MyDrive/Colab Notebooks/eng_youtube/rusty_infos.csv:  9030\n",
            "total length of comments:  11059\n"
          ]
        }
      ],
      "source": [
        "total_len = 0\n",
        "\n",
        "for i in range(len(to_sc)):\n",
        "\n",
        "    # Apply text cleaning functions on the 'comments' column.\n",
        "    globals()[f'df_{i}']['comments'] = globals()[f'df_{i}']['comments'].apply(replace_single_u)  # Replace 'u' with 'you'.\n",
        "    globals()[f'df_{i}']['comments'] = globals()[f'df_{i}']['comments'].apply(lambda x: remove_pattern(x, r'<[^>]*?>'))  # Remove HTML tags.\n",
        "    globals()[f'df_{i}']['comments'] = globals()[f'df_{i}']['comments'].apply(remove_special_characters)  # Remove special characters.\n",
        "\n",
        "    # Apply text cleaning on the 'title' column.\n",
        "    globals()[f'df_{i}']['title'] = globals()[f'df_{i}']['title'].apply(remove_special_characters)  # Remove special characters.\n",
        "\n",
        "    # Drop rows with NaN values in the 'comments' column.\n",
        "    globals()[f'df_{i}'] = globals()[f'df_{i}'].dropna(subset=['comments'])\n",
        "\n",
        "    # Print the length of comments for each YouTube channel.\n",
        "    print(f'length of {to_sc[i]}: ', len(globals()[f'df_{i}']))\n",
        "    total_len += len(globals()[f'df_{i}'])  # Update the total length of comments.\n",
        "\n",
        "print('total length of comments: ', total_len)  # Print the total length of comments.\n"
      ]
    },
    {
      "cell_type": "code",
      "execution_count": 12,
      "metadata": {
        "colab": {
          "base_uri": "https://localhost:8080/",
          "height": 206
        },
        "id": "GkOhr-dby7Xt",
        "outputId": "26a076a5-fea1-40b5-a827-9dc8ab82e919"
      },
      "outputs": [
        {
          "output_type": "execute_result",
          "data": {
            "text/plain": [
              "                                               title  \\\n",
              "0                         remember these  things....   \n",
              "1                                 stop investing....   \n",
              "2          sold... k van  stealth overland motorhome   \n",
              "3  no hombase... no bueno!  living in a car or li...   \n",
              "4  a regular car better than a rv????  living in ...   \n",
              "\n",
              "                                           url  \\\n",
              "0  https://www.youtube.com/watch?v=hJLUl8QEHJQ   \n",
              "1  https://www.youtube.com/watch?v=ftC_KPLzdSA   \n",
              "2  https://www.youtube.com/watch?v=vISmsBVYWFM   \n",
              "3  https://www.youtube.com/watch?v=EM_rzCtuUwA   \n",
              "4  https://www.youtube.com/watch?v=JJqiKkkiHMw   \n",
              "\n",
              "                                            comments  \n",
              "0  'subscribe amp join the channel click the join...  \n",
              "1  'subscribe amp join the channel click the join...  \n",
              "2  'subscribe amp join the channel click the join...  \n",
              "3  'subscribe amp join the channel click the join...  \n",
              "4  'subscribe amp join the channel click the join...  "
            ],
            "text/html": [
              "\n",
              "  <div id=\"df-c38e0c34-9b9f-462c-9e41-08a135ca2be4\" class=\"colab-df-container\">\n",
              "    <div>\n",
              "<style scoped>\n",
              "    .dataframe tbody tr th:only-of-type {\n",
              "        vertical-align: middle;\n",
              "    }\n",
              "\n",
              "    .dataframe tbody tr th {\n",
              "        vertical-align: top;\n",
              "    }\n",
              "\n",
              "    .dataframe thead th {\n",
              "        text-align: right;\n",
              "    }\n",
              "</style>\n",
              "<table border=\"1\" class=\"dataframe\">\n",
              "  <thead>\n",
              "    <tr style=\"text-align: right;\">\n",
              "      <th></th>\n",
              "      <th>title</th>\n",
              "      <th>url</th>\n",
              "      <th>comments</th>\n",
              "    </tr>\n",
              "  </thead>\n",
              "  <tbody>\n",
              "    <tr>\n",
              "      <th>0</th>\n",
              "      <td>remember these  things....</td>\n",
              "      <td>https://www.youtube.com/watch?v=hJLUl8QEHJQ</td>\n",
              "      <td>'subscribe amp join the channel click the join...</td>\n",
              "    </tr>\n",
              "    <tr>\n",
              "      <th>1</th>\n",
              "      <td>stop investing....</td>\n",
              "      <td>https://www.youtube.com/watch?v=ftC_KPLzdSA</td>\n",
              "      <td>'subscribe amp join the channel click the join...</td>\n",
              "    </tr>\n",
              "    <tr>\n",
              "      <th>2</th>\n",
              "      <td>sold... k van  stealth overland motorhome</td>\n",
              "      <td>https://www.youtube.com/watch?v=vISmsBVYWFM</td>\n",
              "      <td>'subscribe amp join the channel click the join...</td>\n",
              "    </tr>\n",
              "    <tr>\n",
              "      <th>3</th>\n",
              "      <td>no hombase... no bueno!  living in a car or li...</td>\n",
              "      <td>https://www.youtube.com/watch?v=EM_rzCtuUwA</td>\n",
              "      <td>'subscribe amp join the channel click the join...</td>\n",
              "    </tr>\n",
              "    <tr>\n",
              "      <th>4</th>\n",
              "      <td>a regular car better than a rv????  living in ...</td>\n",
              "      <td>https://www.youtube.com/watch?v=JJqiKkkiHMw</td>\n",
              "      <td>'subscribe amp join the channel click the join...</td>\n",
              "    </tr>\n",
              "  </tbody>\n",
              "</table>\n",
              "</div>\n",
              "    <div class=\"colab-df-buttons\">\n",
              "\n",
              "  <div class=\"colab-df-container\">\n",
              "    <button class=\"colab-df-convert\" onclick=\"convertToInteractive('df-c38e0c34-9b9f-462c-9e41-08a135ca2be4')\"\n",
              "            title=\"Convert this dataframe to an interactive table.\"\n",
              "            style=\"display:none;\">\n",
              "\n",
              "  <svg xmlns=\"http://www.w3.org/2000/svg\" height=\"24px\" viewBox=\"0 -960 960 960\">\n",
              "    <path d=\"M120-120v-720h720v720H120Zm60-500h600v-160H180v160Zm220 220h160v-160H400v160Zm0 220h160v-160H400v160ZM180-400h160v-160H180v160Zm440 0h160v-160H620v160ZM180-180h160v-160H180v160Zm440 0h160v-160H620v160Z\"/>\n",
              "  </svg>\n",
              "    </button>\n",
              "\n",
              "  <style>\n",
              "    .colab-df-container {\n",
              "      display:flex;\n",
              "      gap: 12px;\n",
              "    }\n",
              "\n",
              "    .colab-df-convert {\n",
              "      background-color: #E8F0FE;\n",
              "      border: none;\n",
              "      border-radius: 50%;\n",
              "      cursor: pointer;\n",
              "      display: none;\n",
              "      fill: #1967D2;\n",
              "      height: 32px;\n",
              "      padding: 0 0 0 0;\n",
              "      width: 32px;\n",
              "    }\n",
              "\n",
              "    .colab-df-convert:hover {\n",
              "      background-color: #E2EBFA;\n",
              "      box-shadow: 0px 1px 2px rgba(60, 64, 67, 0.3), 0px 1px 3px 1px rgba(60, 64, 67, 0.15);\n",
              "      fill: #174EA6;\n",
              "    }\n",
              "\n",
              "    .colab-df-buttons div {\n",
              "      margin-bottom: 4px;\n",
              "    }\n",
              "\n",
              "    [theme=dark] .colab-df-convert {\n",
              "      background-color: #3B4455;\n",
              "      fill: #D2E3FC;\n",
              "    }\n",
              "\n",
              "    [theme=dark] .colab-df-convert:hover {\n",
              "      background-color: #434B5C;\n",
              "      box-shadow: 0px 1px 3px 1px rgba(0, 0, 0, 0.15);\n",
              "      filter: drop-shadow(0px 1px 2px rgba(0, 0, 0, 0.3));\n",
              "      fill: #FFFFFF;\n",
              "    }\n",
              "  </style>\n",
              "\n",
              "    <script>\n",
              "      const buttonEl =\n",
              "        document.querySelector('#df-c38e0c34-9b9f-462c-9e41-08a135ca2be4 button.colab-df-convert');\n",
              "      buttonEl.style.display =\n",
              "        google.colab.kernel.accessAllowed ? 'block' : 'none';\n",
              "\n",
              "      async function convertToInteractive(key) {\n",
              "        const element = document.querySelector('#df-c38e0c34-9b9f-462c-9e41-08a135ca2be4');\n",
              "        const dataTable =\n",
              "          await google.colab.kernel.invokeFunction('convertToInteractive',\n",
              "                                                    [key], {});\n",
              "        if (!dataTable) return;\n",
              "\n",
              "        const docLinkHtml = 'Like what you see? Visit the ' +\n",
              "          '<a target=\"_blank\" href=https://colab.research.google.com/notebooks/data_table.ipynb>data table notebook</a>'\n",
              "          + ' to learn more about interactive tables.';\n",
              "        element.innerHTML = '';\n",
              "        dataTable['output_type'] = 'display_data';\n",
              "        await google.colab.output.renderOutput(dataTable, element);\n",
              "        const docLink = document.createElement('div');\n",
              "        docLink.innerHTML = docLinkHtml;\n",
              "        element.appendChild(docLink);\n",
              "      }\n",
              "    </script>\n",
              "  </div>\n",
              "\n",
              "\n",
              "<div id=\"df-9c8b3cd9-df1b-40d2-9d1d-510ffa9cfc3e\">\n",
              "  <button class=\"colab-df-quickchart\" onclick=\"quickchart('df-9c8b3cd9-df1b-40d2-9d1d-510ffa9cfc3e')\"\n",
              "            title=\"Suggest charts.\"\n",
              "            style=\"display:none;\">\n",
              "\n",
              "<svg xmlns=\"http://www.w3.org/2000/svg\" height=\"24px\"viewBox=\"0 0 24 24\"\n",
              "     width=\"24px\">\n",
              "    <g>\n",
              "        <path d=\"M19 3H5c-1.1 0-2 .9-2 2v14c0 1.1.9 2 2 2h14c1.1 0 2-.9 2-2V5c0-1.1-.9-2-2-2zM9 17H7v-7h2v7zm4 0h-2V7h2v10zm4 0h-2v-4h2v4z\"/>\n",
              "    </g>\n",
              "</svg>\n",
              "  </button>\n",
              "\n",
              "<style>\n",
              "  .colab-df-quickchart {\n",
              "      --bg-color: #E8F0FE;\n",
              "      --fill-color: #1967D2;\n",
              "      --hover-bg-color: #E2EBFA;\n",
              "      --hover-fill-color: #174EA6;\n",
              "      --disabled-fill-color: #AAA;\n",
              "      --disabled-bg-color: #DDD;\n",
              "  }\n",
              "\n",
              "  [theme=dark] .colab-df-quickchart {\n",
              "      --bg-color: #3B4455;\n",
              "      --fill-color: #D2E3FC;\n",
              "      --hover-bg-color: #434B5C;\n",
              "      --hover-fill-color: #FFFFFF;\n",
              "      --disabled-bg-color: #3B4455;\n",
              "      --disabled-fill-color: #666;\n",
              "  }\n",
              "\n",
              "  .colab-df-quickchart {\n",
              "    background-color: var(--bg-color);\n",
              "    border: none;\n",
              "    border-radius: 50%;\n",
              "    cursor: pointer;\n",
              "    display: none;\n",
              "    fill: var(--fill-color);\n",
              "    height: 32px;\n",
              "    padding: 0;\n",
              "    width: 32px;\n",
              "  }\n",
              "\n",
              "  .colab-df-quickchart:hover {\n",
              "    background-color: var(--hover-bg-color);\n",
              "    box-shadow: 0 1px 2px rgba(60, 64, 67, 0.3), 0 1px 3px 1px rgba(60, 64, 67, 0.15);\n",
              "    fill: var(--button-hover-fill-color);\n",
              "  }\n",
              "\n",
              "  .colab-df-quickchart-complete:disabled,\n",
              "  .colab-df-quickchart-complete:disabled:hover {\n",
              "    background-color: var(--disabled-bg-color);\n",
              "    fill: var(--disabled-fill-color);\n",
              "    box-shadow: none;\n",
              "  }\n",
              "\n",
              "  .colab-df-spinner {\n",
              "    border: 2px solid var(--fill-color);\n",
              "    border-color: transparent;\n",
              "    border-bottom-color: var(--fill-color);\n",
              "    animation:\n",
              "      spin 1s steps(1) infinite;\n",
              "  }\n",
              "\n",
              "  @keyframes spin {\n",
              "    0% {\n",
              "      border-color: transparent;\n",
              "      border-bottom-color: var(--fill-color);\n",
              "      border-left-color: var(--fill-color);\n",
              "    }\n",
              "    20% {\n",
              "      border-color: transparent;\n",
              "      border-left-color: var(--fill-color);\n",
              "      border-top-color: var(--fill-color);\n",
              "    }\n",
              "    30% {\n",
              "      border-color: transparent;\n",
              "      border-left-color: var(--fill-color);\n",
              "      border-top-color: var(--fill-color);\n",
              "      border-right-color: var(--fill-color);\n",
              "    }\n",
              "    40% {\n",
              "      border-color: transparent;\n",
              "      border-right-color: var(--fill-color);\n",
              "      border-top-color: var(--fill-color);\n",
              "    }\n",
              "    60% {\n",
              "      border-color: transparent;\n",
              "      border-right-color: var(--fill-color);\n",
              "    }\n",
              "    80% {\n",
              "      border-color: transparent;\n",
              "      border-right-color: var(--fill-color);\n",
              "      border-bottom-color: var(--fill-color);\n",
              "    }\n",
              "    90% {\n",
              "      border-color: transparent;\n",
              "      border-bottom-color: var(--fill-color);\n",
              "    }\n",
              "  }\n",
              "</style>\n",
              "\n",
              "  <script>\n",
              "    async function quickchart(key) {\n",
              "      const quickchartButtonEl =\n",
              "        document.querySelector('#' + key + ' button');\n",
              "      quickchartButtonEl.disabled = true;  // To prevent multiple clicks.\n",
              "      quickchartButtonEl.classList.add('colab-df-spinner');\n",
              "      try {\n",
              "        const charts = await google.colab.kernel.invokeFunction(\n",
              "            'suggestCharts', [key], {});\n",
              "      } catch (error) {\n",
              "        console.error('Error during call to suggestCharts:', error);\n",
              "      }\n",
              "      quickchartButtonEl.classList.remove('colab-df-spinner');\n",
              "      quickchartButtonEl.classList.add('colab-df-quickchart-complete');\n",
              "    }\n",
              "    (() => {\n",
              "      let quickchartButtonEl =\n",
              "        document.querySelector('#df-9c8b3cd9-df1b-40d2-9d1d-510ffa9cfc3e button');\n",
              "      quickchartButtonEl.style.display =\n",
              "        google.colab.kernel.accessAllowed ? 'block' : 'none';\n",
              "    })();\n",
              "  </script>\n",
              "</div>\n",
              "    </div>\n",
              "  </div>\n"
            ]
          },
          "metadata": {},
          "execution_count": 12
        }
      ],
      "source": [
        "df_1.head()"
      ]
    },
    {
      "cell_type": "code",
      "execution_count": 13,
      "metadata": {
        "colab": {
          "base_uri": "https://localhost:8080/",
          "height": 87
        },
        "id": "pmlN4ZldndKH",
        "outputId": "b9e5cf7f-75f5-4c5f-f5c3-ed090d7122ca"
      },
      "outputs": [
        {
          "output_type": "execute_result",
          "data": {
            "text/plain": [
              "\"'subscribe amp join the channel click the join button for unlimited live chat access, a membership badge and custom emojis.if you cant see or use the join button on your phone try using your laptop and click this link httpswww.youtube.comchannelucwd_qzlspwwzshupuzqjoinall my youtube videos are free..xaif you would like to support the channel in an additional way you can contribute via paypal by clicking this linkxahttpswww.paypal.meinspirationalnomadthank you for the love amp support ', '', 'thank you brother.. keep pushing forward ', 'need deep pockets for mercedes repairs', 'true, definitely a factor that should be considered'\""
            ],
            "application/vnd.google.colaboratory.intrinsic+json": {
              "type": "string"
            }
          },
          "metadata": {},
          "execution_count": 13
        }
      ],
      "source": [
        "df_1['comments'][20]"
      ]
    },
    {
      "cell_type": "code",
      "execution_count": 15,
      "metadata": {
        "id": "T0uHXMQCpJJ3"
      },
      "outputs": [],
      "source": [
        "import shlex"
      ]
    },
    {
      "cell_type": "code",
      "execution_count": 16,
      "metadata": {
        "colab": {
          "base_uri": "https://localhost:8080/"
        },
        "id": "DJwjOVKHmVJJ",
        "outputId": "338f8082-b1a3-48c0-d9fe-2e1d86320d50"
      },
      "outputs": [
        {
          "output_type": "stream",
          "name": "stdout",
          "text": [
            "0\n",
            "length of /content/drive/MyDrive/Colab Notebooks/eng_youtube/developed_infos.csv:  87203\n",
            "after drop_duplicates_length of /content/drive/MyDrive/Colab Notebooks/eng_youtube/developed_infos.csv:  80033\n",
            "1\n",
            "length of /content/drive/MyDrive/Colab Notebooks/eng_youtube/nomad_infos.csv:  15946\n",
            "after drop_duplicates_length of /content/drive/MyDrive/Colab Notebooks/eng_youtube/nomad_infos.csv:  13430\n",
            "2\n",
            "length of /content/drive/MyDrive/Colab Notebooks/eng_youtube/harun_infos.csv:  107807\n",
            "after drop_duplicates_length of /content/drive/MyDrive/Colab Notebooks/eng_youtube/harun_infos.csv:  98262\n",
            "3\n"
          ]
        },
        {
          "output_type": "stream",
          "name": "stderr",
          "text": [
            "<ipython-input-16-e6872c048d9b>:14: SettingWithCopyWarning: \n",
            "A value is trying to be set on a copy of a slice from a DataFrame\n",
            "\n",
            "See the caveats in the documentation: https://pandas.pydata.org/pandas-docs/stable/user_guide/indexing.html#returning-a-view-versus-a-copy\n",
            "  globals()[f'df_{i}']['comments'].replace('', np.nan, inplace=True)\n",
            "<ipython-input-16-e6872c048d9b>:16: SettingWithCopyWarning: \n",
            "A value is trying to be set on a copy of a slice from a DataFrame\n",
            "\n",
            "See the caveats in the documentation: https://pandas.pydata.org/pandas-docs/stable/user_guide/indexing.html#returning-a-view-versus-a-copy\n",
            "  globals()[f'df_{i}'].dropna(subset=['comments'], inplace=True)\n"
          ]
        },
        {
          "output_type": "stream",
          "name": "stdout",
          "text": [
            "length of /content/drive/MyDrive/Colab Notebooks/eng_youtube/stephie_infos.csv:  16293\n",
            "after drop_duplicates_length of /content/drive/MyDrive/Colab Notebooks/eng_youtube/stephie_infos.csv:  14971\n",
            "4\n",
            "length of /content/drive/MyDrive/Colab Notebooks/eng_youtube/rusty_infos.csv:  473704\n",
            "after drop_duplicates_length of /content/drive/MyDrive/Colab Notebooks/eng_youtube/rusty_infos.csv:  287215\n",
            "total length of comments:  493911\n"
          ]
        },
        {
          "output_type": "stream",
          "name": "stderr",
          "text": [
            "<ipython-input-16-e6872c048d9b>:14: SettingWithCopyWarning: \n",
            "A value is trying to be set on a copy of a slice from a DataFrame\n",
            "\n",
            "See the caveats in the documentation: https://pandas.pydata.org/pandas-docs/stable/user_guide/indexing.html#returning-a-view-versus-a-copy\n",
            "  globals()[f'df_{i}']['comments'].replace('', np.nan, inplace=True)\n",
            "<ipython-input-16-e6872c048d9b>:16: SettingWithCopyWarning: \n",
            "A value is trying to be set on a copy of a slice from a DataFrame\n",
            "\n",
            "See the caveats in the documentation: https://pandas.pydata.org/pandas-docs/stable/user_guide/indexing.html#returning-a-view-versus-a-copy\n",
            "  globals()[f'df_{i}'].dropna(subset=['comments'], inplace=True)\n"
          ]
        }
      ],
      "source": [
        "total_len = 0\n",
        "\n",
        "for i in range(len(to_sc)):  # Iterate over each item in to_sc.\n",
        "    print(i)\n",
        "    # Split each comment into separate words using shlex.split, which preserves quoted substrings.\n",
        "    globals()[f'df_{i}']['comments'] = globals()[f'df_{i}']['comments'].apply(lambda x: shlex.split(x))\n",
        "    # Explode each list of words into separate rows.\n",
        "    globals()[f'df_{i}'] = globals()[f'df_{i}'].explode('comments')\n",
        "    print(f'length of {to_sc[i]}: ', len(globals()[f'df_{i}']))\n",
        "\n",
        "    # Drop duplicate comments.\n",
        "    globals()[f'df_{i}'] = globals()[f'df_{i}'].drop_duplicates(subset='comments')\n",
        "    # Replace empty strings in the 'comments' column with NaN.\n",
        "    globals()[f'df_{i}']['comments'].replace('', np.nan, inplace=True)\n",
        "    # Drop rows with NaN in the 'comments' column.\n",
        "    globals()[f'df_{i}'].dropna(subset=['comments'], inplace=True)\n",
        "    # Reset the DataFrame's index.\n",
        "    globals()[f'df_{i}'] = globals()[f'df_{i}'].reset_index(drop=True)\n",
        "\n",
        "    # Print the number of comments after removing duplicates for each YouTube channel.\n",
        "    print(f'after drop_duplicates_length of {to_sc[i]}: ', len(globals()[f'df_{i}']))\n",
        "    total_len += len(globals()[f'df_{i}'])  # Update the total length of comments.\n",
        "\n",
        "print('total length of comments: ', total_len)  # Print the total length of comments.\n"
      ]
    },
    {
      "cell_type": "code",
      "execution_count": 17,
      "metadata": {
        "colab": {
          "base_uri": "https://localhost:8080/",
          "height": 70
        },
        "id": "vJiB_xWYmmlM",
        "outputId": "59d9e0bb-3faf-46a3-8f6b-8b6eddea2cc8"
      },
      "outputs": [
        {
          "output_type": "execute_result",
          "data": {
            "text/plain": [
              "'subscribe amp join the channel click the join button for unlimited live chat access, a membership badge and custom emojis.if you cant see or use the join button on your phone try using your laptop and click this link httpswww.youtube.comchannelucwd_qzlspwwzshupuzqjoinall my youtube videos are free..xaif you would like to support the channel in an additional way you can contribute via paypal by clicking this linkxahttpswww.paypal.meinspirationalnomadthank you for the love amp support ,'"
            ],
            "application/vnd.google.colaboratory.intrinsic+json": {
              "type": "string"
            }
          },
          "metadata": {},
          "execution_count": 17
        }
      ],
      "source": [
        "df_1['comments'][0]"
      ]
    },
    {
      "cell_type": "code",
      "execution_count": 18,
      "metadata": {
        "id": "2Zh1Ig8UXe_0"
      },
      "outputs": [],
      "source": [
        "def remove_http_www(text):\n",
        "    # Using regex, this function removes any URL that starts with 'http' or 'www' from the input text.\n",
        "    pattern = r'\\b(?:http\\S*|www\\S*)\\b'\n",
        "    return re.sub(pattern, '', text)\n",
        "\n",
        "def mask_youtube_names(comment, names, mask='youtuber'):\n",
        "    # This function replaces each instance of a YouTuber's name in the comment with the word 'youtuber'.\n",
        "    for name in names:\n",
        "        name_pattern = re.compile(re.escape(name))\n",
        "        comment = name_pattern.sub(mask, comment)\n",
        "    return comment\n",
        "\n",
        "def process_string(s):\n",
        "    # This function performs a series of replacements in the string:\n",
        "    # replaces ',.' and '.,' with '.', '....' (or more dots) with '.', two or more spaces with one, and two or more '!' with one.\n",
        "    s = re.sub('.,', '.', s)\n",
        "    s = re.sub(',.', '.', s)\n",
        "    s = re.sub('\\.{2,}', '.', s)\n",
        "    s = re.sub(' {2,}', ' ', s)\n",
        "    s = re.sub('\\!{2,}', '!', s)\n",
        "    return s"
      ]
    },
    {
      "cell_type": "code",
      "execution_count": 19,
      "metadata": {
        "colab": {
          "base_uri": "https://localhost:8080/"
        },
        "id": "ZdvDIkHZwKll",
        "outputId": "823d0185-fd37-482e-9e7e-9042c5d810a0"
      },
      "outputs": [
        {
          "output_type": "stream",
          "name": "stdout",
          "text": [
            "length of /content/drive/MyDrive/Colab Notebooks/eng_youtube/developed_infos.csv:  80033\n",
            "length of /content/drive/MyDrive/Colab Notebooks/eng_youtube/nomad_infos.csv:  13430\n",
            "length of /content/drive/MyDrive/Colab Notebooks/eng_youtube/harun_infos.csv:  98262\n",
            "length of /content/drive/MyDrive/Colab Notebooks/eng_youtube/stephie_infos.csv:  14971\n",
            "length of /content/drive/MyDrive/Colab Notebooks/eng_youtube/rusty_infos.csv:  287215\n"
          ]
        }
      ],
      "source": [
        "import numpy as np\n",
        "\n",
        "total_len = 0\n",
        "log_sample = []\n",
        "total_log = 0\n",
        "all_dfs = []\n",
        "\n",
        "for i in range(len(to_sc)):\n",
        "\n",
        "    # The following blocks of code process both 'comments' and 'title' in similar ways:\n",
        "    # remove URLs, mask YouTuber names, process strings, and compute the length of the processed string.\n",
        "    # 'comments'\n",
        "    names = ['sam', 'steph', 'david', 'rusty', 'aysha'] # predefine the youtuber names\n",
        "    globals()[f'df_{i}']['comments'] = globals()[f'df_{i}']['comments'].apply(remove_http_www)\n",
        "    globals()[f'df_{i}']['comments'] = globals()[f'df_{i}']['comments'].apply(lambda x : mask_youtube_names(comment=x, names = names))\n",
        "    globals()[f'df_{i}']['comments'] = globals()[f'df_{i}']['comments'].apply(process_string)\n",
        "    globals()[f'df_{i}']['comments_length'] = globals()[f'df_{i}']['comments'].str.len()\n",
        "\n",
        "    # 'title'\n",
        "    globals()[f'df_{i}']['title'] = globals()[f'df_{i}']['title'].apply(remove_http_www)\n",
        "    globals()[f'df_{i}']['title'] = globals()[f'df_{i}']['title'].apply(lambda x : mask_youtube_names(comment=x, names = names))\n",
        "    globals()[f'df_{i}']['title'] = globals()[f'df_{i}']['title'].apply(process_string)\n",
        "    globals()[f'df_{i}']['title_length'] = globals()[f'df_{i}']['title'].str.len()\n",
        "\n",
        "    # Print the length of the current dataframe and add it to the total length.\n",
        "    print(f'length of {to_sc[i]}: ', len(globals()[f'df_{i}']))\n",
        "    total_len += len(globals()[f'df_{i}'])\n",
        "\n",
        "    # Append the current dataframe to the list of all dataframes.\n",
        "    all_dfs.append(globals()[f'df_{i}'])\n",
        "\n",
        "# Create a new dataframe by concatenating all dataframes in the list and resetting the index.\n",
        "new_df = pd.concat(all_dfs).reset_index(drop=True)\n",
        "\n",
        "# Filter the data based on the computed quantiles for 'comments_length' and 'title_length'.\n",
        "lower_quantile = new_df['comments_length'].quantile(0.50)\n",
        "high_quantile = new_df['comments_length'].quantile(0.99)\n",
        "lower_quantile_title = new_df['title_length'].quantile(0.50)\n",
        "high_quantile_title = new_df['title_length'].quantile(0.99)"
      ]
    },
    {
      "cell_type": "markdown",
      "source": [
        "### 2. **Text Length Filtering**\n",
        "- Filter with results for statistics in sentences and titles with short tokens"
      ],
      "metadata": {
        "id": "j5374KRsNF9e"
      }
    },
    {
      "cell_type": "code",
      "execution_count": 20,
      "metadata": {
        "colab": {
          "base_uri": "https://localhost:8080/"
        },
        "id": "vtYNDkiYSVsO",
        "outputId": "b6d9257f-5ab6-430a-e199-545952fd4e10"
      },
      "outputs": [
        {
          "output_type": "stream",
          "name": "stdout",
          "text": [
            "length of /content/drive/MyDrive/Colab Notebooks/eng_youtube/developed_infos.csv:  30140\n",
            "log length of /content/drive/MyDrive/Colab Notebooks/eng_youtube/developed_infos.csv:  10.313608472180485\n",
            "length of /content/drive/MyDrive/Colab Notebooks/eng_youtube/nomad_infos.csv:  3452\n",
            "log length of /content/drive/MyDrive/Colab Notebooks/eng_youtube/nomad_infos.csv:  8.146709052203319\n",
            "length of /content/drive/MyDrive/Colab Notebooks/eng_youtube/harun_infos.csv:  36386\n",
            "log length of /content/drive/MyDrive/Colab Notebooks/eng_youtube/harun_infos.csv:  10.50193936425675\n",
            "length of /content/drive/MyDrive/Colab Notebooks/eng_youtube/stephie_infos.csv:  6096\n",
            "log length of /content/drive/MyDrive/Colab Notebooks/eng_youtube/stephie_infos.csv:  8.715388097366482\n",
            "length of /content/drive/MyDrive/Colab Notebooks/eng_youtube/rusty_infos.csv:  33486\n",
            "log length of /content/drive/MyDrive/Colab Notebooks/eng_youtube/rusty_infos.csv:  10.418882720016489\n"
          ]
        }
      ],
      "source": [
        "for i in range(len(to_sc)):\n",
        "\n",
        "    # Filter 'comments_length' and 'title_length' in the dataframe between the lower and high quantile, both inclusive.\n",
        "    globals()[f'df_{i}'] = globals()[f'df_{i}'][globals()[f'df_{i}']['comments_length'] > lower_quantile]\n",
        "    globals()[f'df_{i}'] = globals()[f'df_{i}'][globals()[f'df_{i}']['comments_length'] < high_quantile]\n",
        "    globals()[f'df_{i}'] = globals()[f'df_{i}'][globals()[f'df_{i}']['title_length'] > lower_quantile_title]\n",
        "    globals()[f'df_{i}'] = globals()[f'df_{i}'][globals()[f'df_{i}']['title_length'] < high_quantile_title]\n",
        "\n",
        "    # Print the length of the current dataframe.\n",
        "    print(f'length of {to_sc[i]}: ', len(globals()[f'df_{i}']))\n",
        "\n",
        "    # Append the log of the length of the current dataframe to the log_sample list.\n",
        "    log_sample.append(np.log(len(globals()[f'df_{i}'])))\n",
        "\n",
        "    # Print the log length of the current dataframe.\n",
        "    print(f'log length of {to_sc[i]}: ', np.log(len(globals()[f'df_{i}'])))\n",
        "\n",
        "    # Add the log length of the current dataframe to the total log.\n",
        "    total_log += np.log(len(globals()[f'df_{i}']))\n"
      ]
    },
    {
      "cell_type": "code",
      "execution_count": 21,
      "metadata": {
        "id": "n5Ww3uf2MrJm"
      },
      "outputs": [],
      "source": [
        "# '20000' : This scales these proportions up by a factor of '20000',\n",
        "# which is presumably the total number of samples that will be drawn in the next step of the process.\n",
        "log_sample_cnt = np.round((log_sample / total_log) * 20000).astype(int)"
      ]
    },
    {
      "cell_type": "code",
      "execution_count": 22,
      "metadata": {
        "colab": {
          "base_uri": "https://localhost:8080/"
        },
        "id": "EtK8VSwwSeP7",
        "outputId": "9badf684-e444-4193-ee90-891511aefd0f"
      },
      "outputs": [
        {
          "output_type": "execute_result",
          "data": {
            "text/plain": [
              "array([4289, 3388, 4367, 3624, 4332])"
            ]
          },
          "metadata": {},
          "execution_count": 22
        }
      ],
      "source": [
        "log_sample_cnt"
      ]
    },
    {
      "cell_type": "markdown",
      "source": [
        "### 3. LogSampling"
      ],
      "metadata": {
        "id": "jsoOpLCwSSQS"
      }
    },
    {
      "cell_type": "code",
      "execution_count": 23,
      "metadata": {
        "id": "YSd6YWTytOyM"
      },
      "outputs": [],
      "source": [
        "# it samples a subset of rows without replacement, resulting in a list of filtered and potentially down-sampled dataframes, which is stored in filtered_dfs.\n",
        "filtered_dfs = []\n",
        "\n",
        "for i, size in enumerate(log_sample_cnt):\n",
        "    if len(globals()[f'df_{i}']) < log_sample_cnt[i]:\n",
        "        sampled_df = globals()[f'df_{i}']\n",
        "    else:\n",
        "        sampled_df = globals()[f'df_{i}'].sample(n=size, replace=False, random_state=42)  # replace=False -> avoid duplicate\n",
        "\n",
        "    filtered_dfs.append(sampled_df)"
      ]
    },
    {
      "cell_type": "markdown",
      "source": [
        "### 4. **Text Concatanation**\n",
        "- Proceed with [Video Title; Comments] process for data that went through the previous process**\n"
      ],
      "metadata": {
        "id": "Ik_YI8zCPSA5"
      }
    },
    {
      "cell_type": "code",
      "source": [
        "# Create filtered data frames\n",
        "filtered_df = pd.concat(filtered_dfs).reset_index(drop=True)\n",
        "\n",
        "# Concatanate table and comments columns\n",
        "filtered_df['title_comments'] = filtered_df['title'] + \" \" + filtered_df['comments']"
      ],
      "metadata": {
        "id": "IHQkz-NAUfMi"
      },
      "execution_count": 25,
      "outputs": []
    },
    {
      "cell_type": "code",
      "execution_count": 26,
      "metadata": {
        "colab": {
          "base_uri": "https://localhost:8080/",
          "height": 597
        },
        "id": "h8YqvP-uJC6I",
        "outputId": "3e15a159-2ed0-474a-b07f-f01980d12f5f"
      },
      "outputs": [
        {
          "output_type": "execute_result",
          "data": {
            "text/plain": [
              "                                                   title  \\\n",
              "0       be more judgmental! society is keeping you weak.   \n",
              "1      dating coaches are lying to you! when will you...   \n",
              "2            have no friends! the world has lied to you.   \n",
              "3      why i'm staying single for life! it's just not...   \n",
              "4      biblical masculinity vs. red pill! the tides a...   \n",
              "...                                                  ...   \n",
              "19995      future plans?.maybe a small travel trailer???   \n",
              "19996     rpod or winnebago drop or jayco hummingbird???   \n",
              "19997      an easy bed solution for rv or home.and more!   \n",
              "19998     cooking with youtuber.mostly using instant pot   \n",
              "19999        rooftop truck tent.meet steve and annmanee.   \n",
              "\n",
              "                                               url  \\\n",
              "0      https://www.youtube.com/watch?v=EJjWC0f2fKk   \n",
              "1      https://www.youtube.com/watch?v=JBcGXR-Usec   \n",
              "2      https://www.youtube.com/watch?v=6NaTTs3KTI0   \n",
              "3      https://www.youtube.com/watch?v=liNBlxz61Is   \n",
              "4      https://www.youtube.com/watch?v=OpscWwKkygg   \n",
              "...                                            ...   \n",
              "19995  https://www.youtube.com/watch?v=cA5SX82Oz2E   \n",
              "19996  https://www.youtube.com/watch?v=kUu0bfIBkBQ   \n",
              "19997  https://www.youtube.com/watch?v=uHnnin8-Tv0   \n",
              "19998  https://www.youtube.com/watch?v=LtX-jRW584Y   \n",
              "19999  https://www.youtube.com/watch?v=heanjs6DMZI   \n",
              "\n",
              "                                                comments  comments_length  \\\n",
              "0      im a lonely person the only thing im doing is ...              110   \n",
              "1      hey youtuber would love if you can make a vide...              119   \n",
              "2      god lord when you are in the flow centered in ...              187   \n",
              "3      i ride alone. so many ppl are afraid of being ...              264   \n",
              "4      i might yes! the entire episode is always avai...               86   \n",
              "...                                                  ...              ...   \n",
              "19995  im with yo.cooking outside isnt what its made ...              102   \n",
              "19996  now youre talking.this sounds like a plan! im ...              294   \n",
              "19997  wo. no junk or debris cluttering up the are. n...               77   \n",
              "19998  good morning rangers and the stinking goat !.g...              124   \n",
              "19999  i run the youtubere setup on top of my toyota ...               82   \n",
              "\n",
              "       title_length                                     title_comments  \n",
              "0                48  be more judgmental! society is keeping you wea...  \n",
              "1                55  dating coaches are lying to you! when will you...  \n",
              "2                43  have no friends! the world has lied to you. go...  \n",
              "3                56  why i'm staying single for life! it's just not...  \n",
              "4                58  biblical masculinity vs. red pill! the tides a...  \n",
              "...             ...                                                ...  \n",
              "19995            45  future plans?.maybe a small travel trailer??? ...  \n",
              "19996            46  rpod or winnebago drop or jayco hummingbird???...  \n",
              "19997            45  an easy bed solution for rv or home.and more! ...  \n",
              "19998            46  cooking with youtuber.mostly using instant pot...  \n",
              "19999            43  rooftop truck tent.meet steve and annmanee. i ...  \n",
              "\n",
              "[20000 rows x 6 columns]"
            ],
            "text/html": [
              "\n",
              "  <div id=\"df-5d73bb95-65e9-4ca7-9636-86a612bced35\" class=\"colab-df-container\">\n",
              "    <div>\n",
              "<style scoped>\n",
              "    .dataframe tbody tr th:only-of-type {\n",
              "        vertical-align: middle;\n",
              "    }\n",
              "\n",
              "    .dataframe tbody tr th {\n",
              "        vertical-align: top;\n",
              "    }\n",
              "\n",
              "    .dataframe thead th {\n",
              "        text-align: right;\n",
              "    }\n",
              "</style>\n",
              "<table border=\"1\" class=\"dataframe\">\n",
              "  <thead>\n",
              "    <tr style=\"text-align: right;\">\n",
              "      <th></th>\n",
              "      <th>title</th>\n",
              "      <th>url</th>\n",
              "      <th>comments</th>\n",
              "      <th>comments_length</th>\n",
              "      <th>title_length</th>\n",
              "      <th>title_comments</th>\n",
              "    </tr>\n",
              "  </thead>\n",
              "  <tbody>\n",
              "    <tr>\n",
              "      <th>0</th>\n",
              "      <td>be more judgmental! society is keeping you weak.</td>\n",
              "      <td>https://www.youtube.com/watch?v=EJjWC0f2fKk</td>\n",
              "      <td>im a lonely person the only thing im doing is ...</td>\n",
              "      <td>110</td>\n",
              "      <td>48</td>\n",
              "      <td>be more judgmental! society is keeping you wea...</td>\n",
              "    </tr>\n",
              "    <tr>\n",
              "      <th>1</th>\n",
              "      <td>dating coaches are lying to you! when will you...</td>\n",
              "      <td>https://www.youtube.com/watch?v=JBcGXR-Usec</td>\n",
              "      <td>hey youtuber would love if you can make a vide...</td>\n",
              "      <td>119</td>\n",
              "      <td>55</td>\n",
              "      <td>dating coaches are lying to you! when will you...</td>\n",
              "    </tr>\n",
              "    <tr>\n",
              "      <th>2</th>\n",
              "      <td>have no friends! the world has lied to you.</td>\n",
              "      <td>https://www.youtube.com/watch?v=6NaTTs3KTI0</td>\n",
              "      <td>god lord when you are in the flow centered in ...</td>\n",
              "      <td>187</td>\n",
              "      <td>43</td>\n",
              "      <td>have no friends! the world has lied to you. go...</td>\n",
              "    </tr>\n",
              "    <tr>\n",
              "      <th>3</th>\n",
              "      <td>why i'm staying single for life! it's just not...</td>\n",
              "      <td>https://www.youtube.com/watch?v=liNBlxz61Is</td>\n",
              "      <td>i ride alone. so many ppl are afraid of being ...</td>\n",
              "      <td>264</td>\n",
              "      <td>56</td>\n",
              "      <td>why i'm staying single for life! it's just not...</td>\n",
              "    </tr>\n",
              "    <tr>\n",
              "      <th>4</th>\n",
              "      <td>biblical masculinity vs. red pill! the tides a...</td>\n",
              "      <td>https://www.youtube.com/watch?v=OpscWwKkygg</td>\n",
              "      <td>i might yes! the entire episode is always avai...</td>\n",
              "      <td>86</td>\n",
              "      <td>58</td>\n",
              "      <td>biblical masculinity vs. red pill! the tides a...</td>\n",
              "    </tr>\n",
              "    <tr>\n",
              "      <th>...</th>\n",
              "      <td>...</td>\n",
              "      <td>...</td>\n",
              "      <td>...</td>\n",
              "      <td>...</td>\n",
              "      <td>...</td>\n",
              "      <td>...</td>\n",
              "    </tr>\n",
              "    <tr>\n",
              "      <th>19995</th>\n",
              "      <td>future plans?.maybe a small travel trailer???</td>\n",
              "      <td>https://www.youtube.com/watch?v=cA5SX82Oz2E</td>\n",
              "      <td>im with yo.cooking outside isnt what its made ...</td>\n",
              "      <td>102</td>\n",
              "      <td>45</td>\n",
              "      <td>future plans?.maybe a small travel trailer??? ...</td>\n",
              "    </tr>\n",
              "    <tr>\n",
              "      <th>19996</th>\n",
              "      <td>rpod or winnebago drop or jayco hummingbird???</td>\n",
              "      <td>https://www.youtube.com/watch?v=kUu0bfIBkBQ</td>\n",
              "      <td>now youre talking.this sounds like a plan! im ...</td>\n",
              "      <td>294</td>\n",
              "      <td>46</td>\n",
              "      <td>rpod or winnebago drop or jayco hummingbird???...</td>\n",
              "    </tr>\n",
              "    <tr>\n",
              "      <th>19997</th>\n",
              "      <td>an easy bed solution for rv or home.and more!</td>\n",
              "      <td>https://www.youtube.com/watch?v=uHnnin8-Tv0</td>\n",
              "      <td>wo. no junk or debris cluttering up the are. n...</td>\n",
              "      <td>77</td>\n",
              "      <td>45</td>\n",
              "      <td>an easy bed solution for rv or home.and more! ...</td>\n",
              "    </tr>\n",
              "    <tr>\n",
              "      <th>19998</th>\n",
              "      <td>cooking with youtuber.mostly using instant pot</td>\n",
              "      <td>https://www.youtube.com/watch?v=LtX-jRW584Y</td>\n",
              "      <td>good morning rangers and the stinking goat !.g...</td>\n",
              "      <td>124</td>\n",
              "      <td>46</td>\n",
              "      <td>cooking with youtuber.mostly using instant pot...</td>\n",
              "    </tr>\n",
              "    <tr>\n",
              "      <th>19999</th>\n",
              "      <td>rooftop truck tent.meet steve and annmanee.</td>\n",
              "      <td>https://www.youtube.com/watch?v=heanjs6DMZI</td>\n",
              "      <td>i run the youtubere setup on top of my toyota ...</td>\n",
              "      <td>82</td>\n",
              "      <td>43</td>\n",
              "      <td>rooftop truck tent.meet steve and annmanee. i ...</td>\n",
              "    </tr>\n",
              "  </tbody>\n",
              "</table>\n",
              "<p>20000 rows × 6 columns</p>\n",
              "</div>\n",
              "    <div class=\"colab-df-buttons\">\n",
              "\n",
              "  <div class=\"colab-df-container\">\n",
              "    <button class=\"colab-df-convert\" onclick=\"convertToInteractive('df-5d73bb95-65e9-4ca7-9636-86a612bced35')\"\n",
              "            title=\"Convert this dataframe to an interactive table.\"\n",
              "            style=\"display:none;\">\n",
              "\n",
              "  <svg xmlns=\"http://www.w3.org/2000/svg\" height=\"24px\" viewBox=\"0 -960 960 960\">\n",
              "    <path d=\"M120-120v-720h720v720H120Zm60-500h600v-160H180v160Zm220 220h160v-160H400v160Zm0 220h160v-160H400v160ZM180-400h160v-160H180v160Zm440 0h160v-160H620v160ZM180-180h160v-160H180v160Zm440 0h160v-160H620v160Z\"/>\n",
              "  </svg>\n",
              "    </button>\n",
              "\n",
              "  <style>\n",
              "    .colab-df-container {\n",
              "      display:flex;\n",
              "      gap: 12px;\n",
              "    }\n",
              "\n",
              "    .colab-df-convert {\n",
              "      background-color: #E8F0FE;\n",
              "      border: none;\n",
              "      border-radius: 50%;\n",
              "      cursor: pointer;\n",
              "      display: none;\n",
              "      fill: #1967D2;\n",
              "      height: 32px;\n",
              "      padding: 0 0 0 0;\n",
              "      width: 32px;\n",
              "    }\n",
              "\n",
              "    .colab-df-convert:hover {\n",
              "      background-color: #E2EBFA;\n",
              "      box-shadow: 0px 1px 2px rgba(60, 64, 67, 0.3), 0px 1px 3px 1px rgba(60, 64, 67, 0.15);\n",
              "      fill: #174EA6;\n",
              "    }\n",
              "\n",
              "    .colab-df-buttons div {\n",
              "      margin-bottom: 4px;\n",
              "    }\n",
              "\n",
              "    [theme=dark] .colab-df-convert {\n",
              "      background-color: #3B4455;\n",
              "      fill: #D2E3FC;\n",
              "    }\n",
              "\n",
              "    [theme=dark] .colab-df-convert:hover {\n",
              "      background-color: #434B5C;\n",
              "      box-shadow: 0px 1px 3px 1px rgba(0, 0, 0, 0.15);\n",
              "      filter: drop-shadow(0px 1px 2px rgba(0, 0, 0, 0.3));\n",
              "      fill: #FFFFFF;\n",
              "    }\n",
              "  </style>\n",
              "\n",
              "    <script>\n",
              "      const buttonEl =\n",
              "        document.querySelector('#df-5d73bb95-65e9-4ca7-9636-86a612bced35 button.colab-df-convert');\n",
              "      buttonEl.style.display =\n",
              "        google.colab.kernel.accessAllowed ? 'block' : 'none';\n",
              "\n",
              "      async function convertToInteractive(key) {\n",
              "        const element = document.querySelector('#df-5d73bb95-65e9-4ca7-9636-86a612bced35');\n",
              "        const dataTable =\n",
              "          await google.colab.kernel.invokeFunction('convertToInteractive',\n",
              "                                                    [key], {});\n",
              "        if (!dataTable) return;\n",
              "\n",
              "        const docLinkHtml = 'Like what you see? Visit the ' +\n",
              "          '<a target=\"_blank\" href=https://colab.research.google.com/notebooks/data_table.ipynb>data table notebook</a>'\n",
              "          + ' to learn more about interactive tables.';\n",
              "        element.innerHTML = '';\n",
              "        dataTable['output_type'] = 'display_data';\n",
              "        await google.colab.output.renderOutput(dataTable, element);\n",
              "        const docLink = document.createElement('div');\n",
              "        docLink.innerHTML = docLinkHtml;\n",
              "        element.appendChild(docLink);\n",
              "      }\n",
              "    </script>\n",
              "  </div>\n",
              "\n",
              "\n",
              "<div id=\"df-6be6db92-62ab-465b-95f9-fbb4b289d3c5\">\n",
              "  <button class=\"colab-df-quickchart\" onclick=\"quickchart('df-6be6db92-62ab-465b-95f9-fbb4b289d3c5')\"\n",
              "            title=\"Suggest charts.\"\n",
              "            style=\"display:none;\">\n",
              "\n",
              "<svg xmlns=\"http://www.w3.org/2000/svg\" height=\"24px\"viewBox=\"0 0 24 24\"\n",
              "     width=\"24px\">\n",
              "    <g>\n",
              "        <path d=\"M19 3H5c-1.1 0-2 .9-2 2v14c0 1.1.9 2 2 2h14c1.1 0 2-.9 2-2V5c0-1.1-.9-2-2-2zM9 17H7v-7h2v7zm4 0h-2V7h2v10zm4 0h-2v-4h2v4z\"/>\n",
              "    </g>\n",
              "</svg>\n",
              "  </button>\n",
              "\n",
              "<style>\n",
              "  .colab-df-quickchart {\n",
              "      --bg-color: #E8F0FE;\n",
              "      --fill-color: #1967D2;\n",
              "      --hover-bg-color: #E2EBFA;\n",
              "      --hover-fill-color: #174EA6;\n",
              "      --disabled-fill-color: #AAA;\n",
              "      --disabled-bg-color: #DDD;\n",
              "  }\n",
              "\n",
              "  [theme=dark] .colab-df-quickchart {\n",
              "      --bg-color: #3B4455;\n",
              "      --fill-color: #D2E3FC;\n",
              "      --hover-bg-color: #434B5C;\n",
              "      --hover-fill-color: #FFFFFF;\n",
              "      --disabled-bg-color: #3B4455;\n",
              "      --disabled-fill-color: #666;\n",
              "  }\n",
              "\n",
              "  .colab-df-quickchart {\n",
              "    background-color: var(--bg-color);\n",
              "    border: none;\n",
              "    border-radius: 50%;\n",
              "    cursor: pointer;\n",
              "    display: none;\n",
              "    fill: var(--fill-color);\n",
              "    height: 32px;\n",
              "    padding: 0;\n",
              "    width: 32px;\n",
              "  }\n",
              "\n",
              "  .colab-df-quickchart:hover {\n",
              "    background-color: var(--hover-bg-color);\n",
              "    box-shadow: 0 1px 2px rgba(60, 64, 67, 0.3), 0 1px 3px 1px rgba(60, 64, 67, 0.15);\n",
              "    fill: var(--button-hover-fill-color);\n",
              "  }\n",
              "\n",
              "  .colab-df-quickchart-complete:disabled,\n",
              "  .colab-df-quickchart-complete:disabled:hover {\n",
              "    background-color: var(--disabled-bg-color);\n",
              "    fill: var(--disabled-fill-color);\n",
              "    box-shadow: none;\n",
              "  }\n",
              "\n",
              "  .colab-df-spinner {\n",
              "    border: 2px solid var(--fill-color);\n",
              "    border-color: transparent;\n",
              "    border-bottom-color: var(--fill-color);\n",
              "    animation:\n",
              "      spin 1s steps(1) infinite;\n",
              "  }\n",
              "\n",
              "  @keyframes spin {\n",
              "    0% {\n",
              "      border-color: transparent;\n",
              "      border-bottom-color: var(--fill-color);\n",
              "      border-left-color: var(--fill-color);\n",
              "    }\n",
              "    20% {\n",
              "      border-color: transparent;\n",
              "      border-left-color: var(--fill-color);\n",
              "      border-top-color: var(--fill-color);\n",
              "    }\n",
              "    30% {\n",
              "      border-color: transparent;\n",
              "      border-left-color: var(--fill-color);\n",
              "      border-top-color: var(--fill-color);\n",
              "      border-right-color: var(--fill-color);\n",
              "    }\n",
              "    40% {\n",
              "      border-color: transparent;\n",
              "      border-right-color: var(--fill-color);\n",
              "      border-top-color: var(--fill-color);\n",
              "    }\n",
              "    60% {\n",
              "      border-color: transparent;\n",
              "      border-right-color: var(--fill-color);\n",
              "    }\n",
              "    80% {\n",
              "      border-color: transparent;\n",
              "      border-right-color: var(--fill-color);\n",
              "      border-bottom-color: var(--fill-color);\n",
              "    }\n",
              "    90% {\n",
              "      border-color: transparent;\n",
              "      border-bottom-color: var(--fill-color);\n",
              "    }\n",
              "  }\n",
              "</style>\n",
              "\n",
              "  <script>\n",
              "    async function quickchart(key) {\n",
              "      const quickchartButtonEl =\n",
              "        document.querySelector('#' + key + ' button');\n",
              "      quickchartButtonEl.disabled = true;  // To prevent multiple clicks.\n",
              "      quickchartButtonEl.classList.add('colab-df-spinner');\n",
              "      try {\n",
              "        const charts = await google.colab.kernel.invokeFunction(\n",
              "            'suggestCharts', [key], {});\n",
              "      } catch (error) {\n",
              "        console.error('Error during call to suggestCharts:', error);\n",
              "      }\n",
              "      quickchartButtonEl.classList.remove('colab-df-spinner');\n",
              "      quickchartButtonEl.classList.add('colab-df-quickchart-complete');\n",
              "    }\n",
              "    (() => {\n",
              "      let quickchartButtonEl =\n",
              "        document.querySelector('#df-6be6db92-62ab-465b-95f9-fbb4b289d3c5 button');\n",
              "      quickchartButtonEl.style.display =\n",
              "        google.colab.kernel.accessAllowed ? 'block' : 'none';\n",
              "    })();\n",
              "  </script>\n",
              "</div>\n",
              "    </div>\n",
              "  </div>\n"
            ]
          },
          "metadata": {},
          "execution_count": 26
        }
      ],
      "source": [
        "filtered_df"
      ]
    },
    {
      "cell_type": "code",
      "source": [
        "len(filtered_df)"
      ],
      "metadata": {
        "colab": {
          "base_uri": "https://localhost:8080/"
        },
        "id": "YToNe7dRI68w",
        "outputId": "93ecb060-9c11-4ed4-ab6a-8731fefff94a"
      },
      "execution_count": 27,
      "outputs": [
        {
          "output_type": "execute_result",
          "data": {
            "text/plain": [
              "20000"
            ]
          },
          "metadata": {},
          "execution_count": 27
        }
      ]
    },
    {
      "cell_type": "code",
      "source": [
        "# save as csv\n",
        "save_path = '/content/drive/MyDrive/Colab Notebooks/eng_youtube/'\n",
        "filtered_df.to_csv(path_or_buf=save_path + 'model_input.csv')"
      ],
      "metadata": {
        "id": "70Ru62SVHebh"
      },
      "execution_count": 33,
      "outputs": []
    },
    {
      "cell_type": "code",
      "source": [
        "check_file = pd.read_csv('/content/drive/MyDrive/Colab Notebooks/eng_youtube/model_input.csv')"
      ],
      "metadata": {
        "id": "nIeOfgMSKxu8"
      },
      "execution_count": 34,
      "outputs": []
    }
  ],
  "metadata": {
    "accelerator": "GPU",
    "colab": {
      "machine_shape": "hm",
      "provenance": [],
      "mount_file_id": "1qyYRxzbaOdUyhxCRCGbcSgqzLHRpAKt_",
      "authorship_tag": "ABX9TyMWNwClTAtWagAE49NmgdK7",
      "include_colab_link": true
    },
    "kernelspec": {
      "display_name": "Python 3",
      "name": "python3"
    },
    "language_info": {
      "name": "python"
    }
  },
  "nbformat": 4,
  "nbformat_minor": 0
}